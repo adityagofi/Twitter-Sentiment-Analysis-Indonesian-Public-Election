{
 "cells": [
  {
   "cell_type": "code",
   "execution_count": 22,
   "metadata": {},
   "outputs": [],
   "source": [
    "import pandas as pd\n",
    "import numpy as np\n",
    "import tensorflow as tf\n",
    "import seaborn as sns\n",
    "from matplotlib import pyplot as plt\n",
    "from tensorflow import keras\n",
    "from tensorflow.keras.preprocessing.text import Tokenizer\n",
    "from tensorflow.keras.preprocessing.sequence import pad_sequences\n",
    "from sklearn.model_selection import train_test_split"
   ]
  },
  {
   "cell_type": "code",
   "execution_count": 2,
   "metadata": {},
   "outputs": [],
   "source": [
    "df = pd.read_csv(\"Sentiment Data Joko Widodo_2019.csv\")"
   ]
  },
  {
   "cell_type": "code",
   "execution_count": 3,
   "metadata": {},
   "outputs": [
    {
     "data": {
      "text/html": [
       "<div>\n",
       "<style scoped>\n",
       "    .dataframe tbody tr th:only-of-type {\n",
       "        vertical-align: middle;\n",
       "    }\n",
       "\n",
       "    .dataframe tbody tr th {\n",
       "        vertical-align: top;\n",
       "    }\n",
       "\n",
       "    .dataframe thead th {\n",
       "        text-align: right;\n",
       "    }\n",
       "</style>\n",
       "<table border=\"1\" class=\"dataframe\">\n",
       "  <thead>\n",
       "    <tr style=\"text-align: right;\">\n",
       "      <th></th>\n",
       "      <th>score</th>\n",
       "      <th>text</th>\n",
       "      <th>class</th>\n",
       "    </tr>\n",
       "  </thead>\n",
       "  <tbody>\n",
       "    <tr>\n",
       "      <th>0</th>\n",
       "      <td>-1</td>\n",
       "      <td>oh nyata pocong pakai siri</td>\n",
       "      <td>Negative</td>\n",
       "    </tr>\n",
       "    <tr>\n",
       "      <th>1</th>\n",
       "      <td>-4</td>\n",
       "      <td>nyamuk datang lah ada tanggal lah kakak ponti...</td>\n",
       "      <td>Negative</td>\n",
       "    </tr>\n",
       "    <tr>\n",
       "      <th>2</th>\n",
       "      <td>0</td>\n",
       "      <td>foto awkarin jadi poconggak sambung</td>\n",
       "      <td>Neutral</td>\n",
       "    </tr>\n",
       "    <tr>\n",
       "      <th>3</th>\n",
       "      <td>0</td>\n",
       "      <td>maklum kalau pocong banyak tanya kan di kubur...</td>\n",
       "      <td>Neutral</td>\n",
       "    </tr>\n",
       "    <tr>\n",
       "      <th>4</th>\n",
       "      <td>4</td>\n",
       "      <td>benar aku tak larat sangat deh ini tapi sebab ...</td>\n",
       "      <td>Positive</td>\n",
       "    </tr>\n",
       "  </tbody>\n",
       "</table>\n",
       "</div>"
      ],
      "text/plain": [
       "   score                                               text     class\n",
       "0     -1                        oh nyata pocong pakai siri   Negative\n",
       "1     -4   nyamuk datang lah ada tanggal lah kakak ponti...  Negative\n",
       "2      0                foto awkarin jadi poconggak sambung   Neutral\n",
       "3      0   maklum kalau pocong banyak tanya kan di kubur...   Neutral\n",
       "4      4  benar aku tak larat sangat deh ini tapi sebab ...  Positive"
      ]
     },
     "execution_count": 3,
     "metadata": {},
     "output_type": "execute_result"
    }
   ],
   "source": [
    "df.head()"
   ]
  },
  {
   "cell_type": "code",
   "execution_count": 4,
   "metadata": {},
   "outputs": [
    {
     "data": {
      "text/plain": [
       "(1000, 3)"
      ]
     },
     "execution_count": 4,
     "metadata": {},
     "output_type": "execute_result"
    }
   ],
   "source": [
    "df.shape"
   ]
  },
  {
   "cell_type": "code",
   "execution_count": 5,
   "metadata": {},
   "outputs": [
    {
     "data": {
      "text/plain": [
       "3"
      ]
     },
     "execution_count": 5,
     "metadata": {},
     "output_type": "execute_result"
    }
   ],
   "source": [
    "df[\"class\"].nunique()"
   ]
  },
  {
   "cell_type": "code",
   "execution_count": 6,
   "metadata": {},
   "outputs": [],
   "source": [
    "df = df.drop(['score'], axis=1)"
   ]
  },
  {
   "cell_type": "code",
   "execution_count": 7,
   "metadata": {},
   "outputs": [
    {
     "data": {
      "text/html": [
       "<div>\n",
       "<style scoped>\n",
       "    .dataframe tbody tr th:only-of-type {\n",
       "        vertical-align: middle;\n",
       "    }\n",
       "\n",
       "    .dataframe tbody tr th {\n",
       "        vertical-align: top;\n",
       "    }\n",
       "\n",
       "    .dataframe thead th {\n",
       "        text-align: right;\n",
       "    }\n",
       "</style>\n",
       "<table border=\"1\" class=\"dataframe\">\n",
       "  <thead>\n",
       "    <tr style=\"text-align: right;\">\n",
       "      <th></th>\n",
       "      <th>text</th>\n",
       "      <th>class</th>\n",
       "    </tr>\n",
       "  </thead>\n",
       "  <tbody>\n",
       "    <tr>\n",
       "      <th>0</th>\n",
       "      <td>oh nyata pocong pakai siri</td>\n",
       "      <td>Negative</td>\n",
       "    </tr>\n",
       "    <tr>\n",
       "      <th>1</th>\n",
       "      <td>nyamuk datang lah ada tanggal lah kakak ponti...</td>\n",
       "      <td>Negative</td>\n",
       "    </tr>\n",
       "    <tr>\n",
       "      <th>2</th>\n",
       "      <td>foto awkarin jadi poconggak sambung</td>\n",
       "      <td>Neutral</td>\n",
       "    </tr>\n",
       "    <tr>\n",
       "      <th>3</th>\n",
       "      <td>maklum kalau pocong banyak tanya kan di kubur...</td>\n",
       "      <td>Neutral</td>\n",
       "    </tr>\n",
       "    <tr>\n",
       "      <th>4</th>\n",
       "      <td>benar aku tak larat sangat deh ini tapi sebab ...</td>\n",
       "      <td>Positive</td>\n",
       "    </tr>\n",
       "    <tr>\n",
       "      <th>...</th>\n",
       "      <td>...</td>\n",
       "      <td>...</td>\n",
       "    </tr>\n",
       "    <tr>\n",
       "      <th>995</th>\n",
       "      <td>rt pocong sudah balik ke twitterawkarin sudah ...</td>\n",
       "      <td>Neutral</td>\n",
       "    </tr>\n",
       "    <tr>\n",
       "      <th>996</th>\n",
       "      <td>rt pocong sudah balik ke twitterawkarin sudah ...</td>\n",
       "      <td>Neutral</td>\n",
       "    </tr>\n",
       "    <tr>\n",
       "      <th>997</th>\n",
       "      <td>good job min kalo mau bikin meta sebar pocong...</td>\n",
       "      <td>Positive</td>\n",
       "    </tr>\n",
       "    <tr>\n",
       "      <th>998</th>\n",
       "      <td>rt lah pocong mah sudah hits duluan keleusss</td>\n",
       "      <td>Neutral</td>\n",
       "    </tr>\n",
       "    <tr>\n",
       "      <th>999</th>\n",
       "      <td>lu belum main twitter kali nderr pas jam jaya...</td>\n",
       "      <td>Neutral</td>\n",
       "    </tr>\n",
       "  </tbody>\n",
       "</table>\n",
       "<p>1000 rows × 2 columns</p>\n",
       "</div>"
      ],
      "text/plain": [
       "                                                  text     class\n",
       "0                          oh nyata pocong pakai siri   Negative\n",
       "1     nyamuk datang lah ada tanggal lah kakak ponti...  Negative\n",
       "2                  foto awkarin jadi poconggak sambung   Neutral\n",
       "3     maklum kalau pocong banyak tanya kan di kubur...   Neutral\n",
       "4    benar aku tak larat sangat deh ini tapi sebab ...  Positive\n",
       "..                                                 ...       ...\n",
       "995  rt pocong sudah balik ke twitterawkarin sudah ...   Neutral\n",
       "996  rt pocong sudah balik ke twitterawkarin sudah ...   Neutral\n",
       "997   good job min kalo mau bikin meta sebar pocong...  Positive\n",
       "998       rt lah pocong mah sudah hits duluan keleusss   Neutral\n",
       "999   lu belum main twitter kali nderr pas jam jaya...   Neutral\n",
       "\n",
       "[1000 rows x 2 columns]"
      ]
     },
     "execution_count": 7,
     "metadata": {},
     "output_type": "execute_result"
    }
   ],
   "source": [
    "df"
   ]
  },
  {
   "cell_type": "code",
   "execution_count": 12,
   "metadata": {},
   "outputs": [
    {
     "data": {
      "image/png": "[encoded data removed]",
      "text/plain": [
       "<Figure size 640x480 with 1 Axes>"
      ]
     },
     "metadata": {},
     "output_type": "display_data"
    }
   ],
   "source": [
    "ax = sns.countplot(x='class', data=df)\n",
    "for p in ax.patches:\n",
    "    ax.annotate(f'{p.get_height()}', (p.get_x() + p.get_width() / 2., p.get_height()),\n",
    "                ha='center', va='center', xytext=(0, 5), textcoords='offset points')\n",
    "plt.xlabel(\"Sentiment\", fontweight = 'bold')\n",
    "plt.ylabel(\"Frequency\", fontweight = 'bold')\n",
    "plt.show()"
   ]
  },
  {
   "cell_type": "code",
   "execution_count": 13,
   "metadata": {},
   "outputs": [],
   "source": [
    "vocab_size = 1000\n",
    "embeding_dim = 16\n",
    "max_length = 80\n",
    "trunc_type = 'post'\n",
    "paddung_type = 'post'\n",
    "OOV_tok = '<OOV>'\n"
   ]
  },
  {
   "cell_type": "code",
   "execution_count": 34,
   "metadata": {},
   "outputs": [],
   "source": [
    "sentences = df['text']\n",
    "labels = df['class']\n",
    "\n",
    "sentences_train, sentences_test, labels_train, labels_test = train_test_split(\n",
    "    sentences,\n",
    "    labels,\n",
    "    train_size=0.8,\n",
    "    shuffle=False\n",
    ")\n",
    "\n",
    "tokenizer = Tokenizer(\n",
    "    num_words = vocab_size,\n",
    "    oov_token = OOV_tok\n",
    ")\n",
    "\n",
    "tokenizer.fit_on_texts(sentences_train)\n",
    "word_index = tokenizer.word_index\n",
    "train_sequences = tokenizer.texts_to_sequences(sentences_train)\n",
    "sentences_train = pad_sequences(\n",
    "    train_sequences,\n",
    "    maxlen = max_length,\n",
    "    truncating = trunc_type,\n",
    "    padding = paddung_type\n",
    ")\n",
    "\n",
    "test_sequences = tokenizer.texts_to_sequences(sentences_test)\n",
    "sentences_test = pad_sequences(\n",
    "    test_sequences,\n",
    "    maxlen = max_length,\n",
    "    truncating = trunc_type,\n",
    "    padding = paddung_type\n",
    ")\n",
    "label_tokenizer = Tokenizer()\n",
    "label_tokenizer.fit_on_texts(labels)\n",
    "labels_train = np.array(label_tokenizer.texts_to_sequences(labels_train))\n",
    "labels_test = np.array(label_tokenizer.texts_to_sequences(labels_test))\n"
   ]
  },
  {
   "cell_type": "code",
   "execution_count": 72,
   "metadata": {},
   "outputs": [],
   "source": [
    "model_sentiment_analysis = tf.keras.Sequential([tf.keras.layers.Embedding(vocab_size, embeding_dim, input_length=max_length),\n",
    "                                                tf.keras.layers.GlobalAveragePooling1D(),\n",
    "                                                tf.keras.layers.Dense(24, activation='relu'),\n",
    "                                                tf.keras.layers.Dense(12, activation='relu'),\n",
    "                                                tf.keras.layers.Dense(6, activation='sigmoid')\n",
    "])\n",
    "\n",
    "class myCallback(tf.keras.callbacks.Callback):\n",
    "    def on_epoch_end(self, epoch, logs=None):\n",
    "        if logs.get('accuracy') is not None and logs.get('val_accuracy') is not None:\n",
    "            if logs.get('accuracy') > 0.85 and logs.get('val_accuracy') > 0.85:\n",
    "                self.model.stop_training = True\n",
    "                \n",
    "callbacks = myCallback()"
   ]
  },
  {
   "cell_type": "code",
   "execution_count": 73,
   "metadata": {},
   "outputs": [
    {
     "name": "stdout",
     "output_type": "stream",
     "text": [
      "Epoch 1/1000\n",
      "25/25 [==============================] - 1s 7ms/step - loss: 1.2718 - accuracy: 0.5163 - val_loss: 0.9139 - val_accuracy: 0.6400\n",
      "Epoch 2/1000\n",
      "25/25 [==============================] - 0s 2ms/step - loss: 0.9764 - accuracy: 0.5437 - val_loss: 0.9017 - val_accuracy: 0.6650\n",
      "Epoch 3/1000\n",
      "25/25 [==============================] - 0s 3ms/step - loss: 0.9269 - accuracy: 0.5688 - val_loss: 0.7461 - val_accuracy: 0.6650\n",
      "Epoch 4/1000\n",
      "25/25 [==============================] - 0s 6ms/step - loss: 0.8575 - accuracy: 0.5950 - val_loss: 0.6700 - val_accuracy: 0.6900\n",
      "Epoch 5/1000\n",
      "25/25 [==============================] - 0s 3ms/step - loss: 0.7513 - accuracy: 0.6825 - val_loss: 0.6243 - val_accuracy: 0.7550\n",
      "Epoch 6/1000\n",
      "25/25 [==============================] - 0s 2ms/step - loss: 0.6392 - accuracy: 0.7188 - val_loss: 0.6107 - val_accuracy: 0.7650\n",
      "Epoch 7/1000\n",
      "25/25 [==============================] - 0s 3ms/step - loss: 0.5429 - accuracy: 0.7625 - val_loss: 0.7446 - val_accuracy: 0.7250\n",
      "Epoch 8/1000\n",
      "25/25 [==============================] - 0s 2ms/step - loss: 0.4746 - accuracy: 0.7812 - val_loss: 0.5538 - val_accuracy: 0.7850\n",
      "Epoch 9/1000\n",
      "25/25 [==============================] - 0s 2ms/step - loss: 0.3580 - accuracy: 0.8637 - val_loss: 0.5432 - val_accuracy: 0.8000\n",
      "Epoch 10/1000\n",
      "25/25 [==============================] - 0s 2ms/step - loss: 0.2760 - accuracy: 0.9137 - val_loss: 0.6486 - val_accuracy: 0.8000\n",
      "Epoch 11/1000\n",
      "25/25 [==============================] - 0s 4ms/step - loss: 0.1882 - accuracy: 0.9538 - val_loss: 0.6417 - val_accuracy: 0.8300\n",
      "Epoch 12/1000\n",
      "25/25 [==============================] - 0s 2ms/step - loss: 0.1530 - accuracy: 0.9513 - val_loss: 0.8701 - val_accuracy: 0.8200\n",
      "Epoch 13/1000\n",
      "25/25 [==============================] - 0s 2ms/step - loss: 0.1208 - accuracy: 0.9675 - val_loss: 0.6056 - val_accuracy: 0.8600\n"
     ]
    },
    {
     "data": {
      "text/plain": [
       "<keras.src.callbacks.History at 0x1dc983edaf0>"
      ]
     },
     "execution_count": 73,
     "metadata": {},
     "output_type": "execute_result"
    }
   ],
   "source": [
    "model_sentiment_analysis.compile(loss='sparse_categorical_crossentropy',\n",
    "                                 optimizer=tf.keras.optimizers.Adam(learning_rate=0.01),\n",
    "                                 metrics=['accuracy']\n",
    "              )\n",
    "\n",
    "model_sentiment_analysis.fit(sentences_train,\n",
    "                             labels_train,\n",
    "                             epochs=1000,\n",
    "                             validation_data=(sentences_test, labels_test),\n",
    "                             callbacks=callbacks\n",
    "                             )"
   ]
  },
  {
   "cell_type": "code",
   "execution_count": 167,
   "metadata": {},
   "outputs": [
    {
     "name": "stderr",
     "output_type": "stream",
     "text": [
      "c:\\Users\\ACER\\AppData\\Local\\Programs\\Python\\Python38\\lib\\site-packages\\keras\\src\\engine\\training.py:3000: UserWarning: You are saving your model as an HDF5 file via `model.save()`. This file format is considered legacy. We recommend using instead the native Keras format, e.g. `model.save('my_model.keras')`.\n",
      "  saving_api.save_model(\n"
     ]
    }
   ],
   "source": [
    "model_sentiment_analysis.save('model_sentiment_analysis.h5')"
   ]
  },
  {
   "cell_type": "code",
   "execution_count": 168,
   "metadata": {},
   "outputs": [],
   "source": [
    "data_anies = pd.read_csv('data_anies.csv')\n",
    "data_prabowo = pd.read_csv('data_prabowo.csv')\n",
    "data_ganjar = pd.read_csv('data_ganjar.csv')"
   ]
  },
  {
   "cell_type": "code",
   "execution_count": 169,
   "metadata": {},
   "outputs": [],
   "source": [
    "text_predict_anies = data_anies['Tweet'].astype(str)\n",
    "text_predict_prabowo = data_prabowo['Tweet'].astype(str)\n",
    "text_predict_ganjar = data_ganjar['Tweet'].astype(str)"
   ]
  },
  {
   "cell_type": "code",
   "execution_count": 170,
   "metadata": {},
   "outputs": [],
   "source": [
    "sequences_predict_anies = tokenizer.texts_to_sequences(text_predict_anies)\n",
    "sentences_predict_anies = pad_sequences(\n",
    "    sequences_predict_anies,\n",
    "    maxlen = max_length,\n",
    "    truncating = trunc_type,\n",
    "    padding = paddung_type\n",
    ")\n",
    "\n",
    "sequences_predict_prabowo = tokenizer.texts_to_sequences(text_predict_prabowo)\n",
    "sentences_predict_prabowo = pad_sequences(\n",
    "    sequences_predict_prabowo,\n",
    "    maxlen = max_length,\n",
    "    truncating = trunc_type,\n",
    "    padding = paddung_type\n",
    ")\n",
    "\n",
    "sequences_predict_ganjar = tokenizer.texts_to_sequences(text_predict_ganjar)\n",
    "sentences_predict_ganjar = pad_sequences(\n",
    "    sequences_predict_ganjar,\n",
    "    maxlen = max_length,\n",
    "    truncating = trunc_type,\n",
    "    padding = paddung_type\n",
    ")"
   ]
  },
  {
   "cell_type": "code",
   "execution_count": 171,
   "metadata": {},
   "outputs": [
    {
     "name": "stdout",
     "output_type": "stream",
     "text": [
      "7/7 [==============================] - 0s 2ms/step\n"
     ]
    },
    {
     "name": "stdout",
     "output_type": "stream",
     "text": [
      "7/7 [==============================] - 0s 1ms/step\n",
      "7/7 [==============================] - 0s 1ms/step\n"
     ]
    }
   ],
   "source": [
    "predictions_anies = model_sentiment_analysis.predict(sentences_predict_anies)\n",
    "predictions_prabowo = model_sentiment_analysis.predict(sentences_predict_prabowo)\n",
    "predictions_ganjar = model_sentiment_analysis.predict(sentences_predict_ganjar)"
   ]
  },
  {
   "cell_type": "code",
   "execution_count": 172,
   "metadata": {},
   "outputs": [],
   "source": [
    "predicted_class_anies = np.argmax(predictions_anies, axis=1)\n",
    "predicted_class_prabowo = np.argmax(predictions_prabowo, axis=1)\n",
    "predicted_class_ganjar = np.argmax(predictions_ganjar, axis=1)"
   ]
  },
  {
   "cell_type": "code",
   "execution_count": 173,
   "metadata": {},
   "outputs": [],
   "source": [
    "predicted_labels_anies = label_tokenizer.sequences_to_texts(predicted_class_anies.reshape(-1,1))\n",
    "predicted_labels_prabowo = label_tokenizer.sequences_to_texts(predicted_class_prabowo.reshape(-1,1))\n",
    "predicted_labels_ganjar = label_tokenizer.sequences_to_texts(predicted_class_ganjar.reshape(-1,1))"
   ]
  },
  {
   "cell_type": "code",
   "execution_count": 174,
   "metadata": {},
   "outputs": [],
   "source": [
    "data_anies['Sentiment'] = predicted_labels_anies\n",
    "data_prabowo['Sentiment'] = predicted_labels_prabowo\n",
    "data_ganjar['Sentiment'] = predicted_labels_ganjar"
   ]
  },
  {
   "cell_type": "code",
   "execution_count": 175,
   "metadata": {},
   "outputs": [],
   "source": [
    "data_anies[['Tweet','Sentiment']].to_csv('sentiment_anies.csv')\n",
    "data_prabowo[['Tweet','Sentiment']].to_csv('sentiment_prabowo.csv')\n",
    "data_ganjar[['Tweet','Sentiment']].to_csv('sentiment_ganjar.csv')"
   ]
  },
  {
   "cell_type": "code",
   "execution_count": 176,
   "metadata": {},
   "outputs": [
    {
     "data": {
      "image/png": "[encoded data removed]",
      "text/plain": [
       "<Figure size 640x480 with 1 Axes>"
      ]
     },
     "metadata": {},
     "output_type": "display_data"
    }
   ],
   "source": [
    "order = ['negative', 'neutral', 'positive']\n",
    "ax_anies = sns.countplot(x='Sentiment', data=data_anies, order=order)\n",
    "for p in ax_anies.patches:\n",
    "    ax_anies.annotate(f'{p.get_height()}', (p.get_x() + p.get_width() / 2., p.get_height()),\n",
    "                ha='center', va='center', xytext=(0, 5), textcoords='offset points')\n",
    "plt.xlabel(\"Sentiment\", fontweight = 'bold')\n",
    "plt.ylabel(\"Frequency\", fontweight = 'bold')\n",
    "plt.title(\"SENTIMENT ANALYSIS ANIES\")\n",
    "plt.show()"
   ]
  },
  {
   "cell_type": "code",
   "execution_count": 177,
   "metadata": {},
   "outputs": [
    {
     "data": {
      "image/png": "[encoded data removed]",
      "text/plain": [
       "<Figure size 640x480 with 1 Axes>"
      ]
     },
     "metadata": {},
     "output_type": "display_data"
    }
   ],
   "source": [
    "order = ['negative', 'neutral', 'positive']\n",
    "ax_prabowo = sns.countplot(x='Sentiment', data=data_prabowo, order=order)\n",
    "for p in ax_prabowo.patches:\n",
    "    ax_prabowo.annotate(f'{p.get_height()}', (p.get_x() + p.get_width() / 2., p.get_height()),\n",
    "                ha='center', va='center', xytext=(0, 5), textcoords='offset points')\n",
    "plt.xlabel(\"Sentiment\", fontweight = 'bold')\n",
    "plt.ylabel(\"Frequency\", fontweight = 'bold')\n",
    "plt.title(\"SENTIMENT ANALYSIS PRABOWO\")\n",
    "plt.show()"
   ]
  },
  {
   "cell_type": "code",
   "execution_count": 178,
   "metadata": {},
   "outputs": [
    {
     "data": {
      "image/png": "[encoded data removed]",
      "text/plain": [
       "<Figure size 640x480 with 1 Axes>"
      ]
     },
     "metadata": {},
     "output_type": "display_data"
    }
   ],
   "source": [
    "order = ['negative', 'neutral', 'positive']\n",
    "ax_ganjar = sns.countplot(x='Sentiment', data=data_ganjar, order=order)\n",
    "for p in ax_ganjar.patches:\n",
    "    ax_ganjar.annotate(f'{p.get_height()}', (p.get_x() + p.get_width() / 2., p.get_height()),\n",
    "                ha='center', va='center', xytext=(0, 5), textcoords='offset points')\n",
    "plt.xlabel(\"Sentiment\", fontweight = 'bold')\n",
    "plt.ylabel(\"Frequency\", fontweight = 'bold')\n",
    "plt.title(\"SENTIMENT ANALYSIS GANJAR\")\n",
    "plt.show()"
   ]
  }
 ],
 "metadata": {
  "kernelspec": {
   "display_name": "Python 3",
   "language": "python",
   "name": "python3"
  },
  "language_info": {
   "codemirror_mode": {
    "name": "ipython",
    "version": 3
   },
   "file_extension": ".py",
   "mimetype": "text/x-python",
   "name": "python",
   "nbconvert_exporter": "python",
   "pygments_lexer": "ipython3",
   "version": "3.8.10"
  }
 },
 "nbformat": 4,
 "nbformat_minor": 2
}
